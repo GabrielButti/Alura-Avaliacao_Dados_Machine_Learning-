{
  "nbformat": 4,
  "nbformat_minor": 0,
  "metadata": {
    "colab": {
      "provenance": [],
      "authorship_tag": "ABX9TyPyQxVt2MNiJpKURLEZzxX2",
      "include_colab_link": true
    },
    "kernelspec": {
      "name": "python3",
      "display_name": "Python 3"
    },
    "language_info": {
      "name": "python"
    }
  },
  "cells": [
    {
      "cell_type": "markdown",
      "metadata": {
        "id": "view-in-github",
        "colab_type": "text"
      },
      "source": [
        "<a href=\"https://colab.research.google.com/github/GabrielButti/Alura-Avaliacao_Dados_Machine_Learning-/blob/main/Alura_Avalia%C3%A7%C3%A3o_dos_Modelos_e_M%C3%A9tricas_Avalia%C3%A7%C3%A3o_com_Machine_Learning.ipynb\" target=\"_parent\"><img src=\"https://colab.research.google.com/assets/colab-badge.svg\" alt=\"Open In Colab\"/></a>"
      ]
    },
    {
      "cell_type": "markdown",
      "source": [
        "Conexão com o Google Drive"
      ],
      "metadata": {
        "id": "c2KMNfGaVDpq"
      }
    },
    {
      "cell_type": "code",
      "execution_count": null,
      "metadata": {
        "id": "FIRICSPyULzd",
        "collapsed": true
      },
      "outputs": [],
      "source": [
        "from google.colab import drive\n",
        "drive.mount('/content/drive')"
      ]
    },
    {
      "cell_type": "markdown",
      "source": [
        "Importação das Bibliotecas Utilizadas"
      ],
      "metadata": {
        "id": "Lss_g4jKVVaT"
      }
    },
    {
      "cell_type": "code",
      "source": [
        "import pandas as pd\n",
        "from sklearn.tree import DecisionTreeClassifier\n",
        "from sklearn.model_selection import train_test_split\n",
        "from sklearn.metrics import confusion_matrix\n",
        "from sklearn.metrics import ConfusionMatrixDisplay\n",
        "from sklearn.metrics import precision_score\n",
        "from sklearn.metrics import recall_score\n",
        "from sklearn.metrics import accuracy_score\n",
        "from sklearn.metrics import f1_score\n",
        "from sklearn.metrics import RocCurveDisplay\n",
        "from sklearn.metrics import roc_auc_score\n",
        "from sklearn.metrics import PrecisionRecallDisplay\n",
        "from sklearn.metrics import average_precision_score\n",
        "from sklearn.metrics import classification_report\n",
        "from sklearn.model_selection import cross_validate, KFold\n",
        "from sklearn.model_selection import StratifiedKFold\n",
        "from imblearn.over_sampling import SMOTE\n",
        "from imblearn.pipeline import Pipeline as imbpipeline\n",
        "from imblearn.under_sampling import NearMiss"
      ],
      "metadata": {
        "id": "AbU5wOO3VWeI"
      },
      "execution_count": 40,
      "outputs": []
    },
    {
      "cell_type": "markdown",
      "source": [
        "Criando um Modelo Inicial"
      ],
      "metadata": {
        "id": "hpYDSEDDVjva"
      }
    },
    {
      "cell_type": "code",
      "source": [
        "dados = pd.read_csv('/content/drive/MyDrive/emp_automovel.csv')"
      ],
      "metadata": {
        "id": "fLtSpU0XVjKK"
      },
      "execution_count": 3,
      "outputs": []
    },
    {
      "cell_type": "code",
      "source": [
        "dados"
      ],
      "metadata": {
        "colab": {
          "base_uri": "https://localhost:8080/",
          "height": 443
        },
        "id": "k8FTPwvfVtmx",
        "outputId": "b4271d08-5170-4e08-eb2c-889faeef1450"
      },
      "execution_count": 4,
      "outputs": [
        {
          "output_type": "execute_result",
          "data": {
            "text/plain": [
              "       receita_cliente  anuidade_emprestimo  anos_casa_propria  telefone_trab  \\\n",
              "0         12600.000000          3569.400000          12.157324              1   \n",
              "1          9000.000000          2722.188351           7.000000              0   \n",
              "2         15750.000000          4477.500000          12.000000              0   \n",
              "3          9000.000000          1309.050000          12.157324              0   \n",
              "4          7650.000000          1125.000000          12.157324              0   \n",
              "...                ...                  ...                ...            ...   \n",
              "54020     16855.246324           675.000000          12.157324              1   \n",
              "54021     11250.000000           675.000000          14.000000              0   \n",
              "54022     13500.000000           900.000000          64.000000              0   \n",
              "54023     11250.000000          2371.500000          12.157324              0   \n",
              "54024     21060.000000          2459.250000          12.157324              0   \n",
              "\n",
              "       avaliacao_cidade   score_1   score_2   score_3  score_social  \\\n",
              "0                   2.0  0.057153  0.527227  0.513171      0.117428   \n",
              "1                   2.0  0.657661  0.285898  0.614414      0.222700   \n",
              "2                   2.0  0.501213  0.695423  0.513171      0.117428   \n",
              "3                   3.0  0.501213  0.155973  0.513171      0.117428   \n",
              "4                   2.0  0.294328  0.152076  0.513171      0.117428   \n",
              "...                 ...       ...       ...       ...           ...   \n",
              "54020               2.0  0.501213  0.180635  0.513171      0.082500   \n",
              "54021               3.0  0.409620  0.606002  0.513171      0.117428   \n",
              "54022               2.0  0.162632  0.525412  0.513171      0.117428   \n",
              "54023               3.0  0.501213  0.664027  0.513171      0.117428   \n",
              "54024               2.0  0.339656  0.656468  0.513171      0.117428   \n",
              "\n",
              "       troca_telefone  inadimplente  \n",
              "0         2545.000000             0  \n",
              "1          495.000000             0  \n",
              "2         1212.000000             0  \n",
              "3          515.000000             0  \n",
              "4          162.000000             0  \n",
              "...               ...           ...  \n",
              "54020        0.000000             1  \n",
              "54021      466.000000             1  \n",
              "54022      962.106056             1  \n",
              "54023      482.000000             1  \n",
              "54024        0.000000             1  \n",
              "\n",
              "[54025 rows x 11 columns]"
            ],
            "text/html": [
              "\n",
              "  <div id=\"df-c91f7e80-c568-444f-9245-b28844cfac46\" class=\"colab-df-container\">\n",
              "    <div>\n",
              "<style scoped>\n",
              "    .dataframe tbody tr th:only-of-type {\n",
              "        vertical-align: middle;\n",
              "    }\n",
              "\n",
              "    .dataframe tbody tr th {\n",
              "        vertical-align: top;\n",
              "    }\n",
              "\n",
              "    .dataframe thead th {\n",
              "        text-align: right;\n",
              "    }\n",
              "</style>\n",
              "<table border=\"1\" class=\"dataframe\">\n",
              "  <thead>\n",
              "    <tr style=\"text-align: right;\">\n",
              "      <th></th>\n",
              "      <th>receita_cliente</th>\n",
              "      <th>anuidade_emprestimo</th>\n",
              "      <th>anos_casa_propria</th>\n",
              "      <th>telefone_trab</th>\n",
              "      <th>avaliacao_cidade</th>\n",
              "      <th>score_1</th>\n",
              "      <th>score_2</th>\n",
              "      <th>score_3</th>\n",
              "      <th>score_social</th>\n",
              "      <th>troca_telefone</th>\n",
              "      <th>inadimplente</th>\n",
              "    </tr>\n",
              "  </thead>\n",
              "  <tbody>\n",
              "    <tr>\n",
              "      <th>0</th>\n",
              "      <td>12600.000000</td>\n",
              "      <td>3569.400000</td>\n",
              "      <td>12.157324</td>\n",
              "      <td>1</td>\n",
              "      <td>2.0</td>\n",
              "      <td>0.057153</td>\n",
              "      <td>0.527227</td>\n",
              "      <td>0.513171</td>\n",
              "      <td>0.117428</td>\n",
              "      <td>2545.000000</td>\n",
              "      <td>0</td>\n",
              "    </tr>\n",
              "    <tr>\n",
              "      <th>1</th>\n",
              "      <td>9000.000000</td>\n",
              "      <td>2722.188351</td>\n",
              "      <td>7.000000</td>\n",
              "      <td>0</td>\n",
              "      <td>2.0</td>\n",
              "      <td>0.657661</td>\n",
              "      <td>0.285898</td>\n",
              "      <td>0.614414</td>\n",
              "      <td>0.222700</td>\n",
              "      <td>495.000000</td>\n",
              "      <td>0</td>\n",
              "    </tr>\n",
              "    <tr>\n",
              "      <th>2</th>\n",
              "      <td>15750.000000</td>\n",
              "      <td>4477.500000</td>\n",
              "      <td>12.000000</td>\n",
              "      <td>0</td>\n",
              "      <td>2.0</td>\n",
              "      <td>0.501213</td>\n",
              "      <td>0.695423</td>\n",
              "      <td>0.513171</td>\n",
              "      <td>0.117428</td>\n",
              "      <td>1212.000000</td>\n",
              "      <td>0</td>\n",
              "    </tr>\n",
              "    <tr>\n",
              "      <th>3</th>\n",
              "      <td>9000.000000</td>\n",
              "      <td>1309.050000</td>\n",
              "      <td>12.157324</td>\n",
              "      <td>0</td>\n",
              "      <td>3.0</td>\n",
              "      <td>0.501213</td>\n",
              "      <td>0.155973</td>\n",
              "      <td>0.513171</td>\n",
              "      <td>0.117428</td>\n",
              "      <td>515.000000</td>\n",
              "      <td>0</td>\n",
              "    </tr>\n",
              "    <tr>\n",
              "      <th>4</th>\n",
              "      <td>7650.000000</td>\n",
              "      <td>1125.000000</td>\n",
              "      <td>12.157324</td>\n",
              "      <td>0</td>\n",
              "      <td>2.0</td>\n",
              "      <td>0.294328</td>\n",
              "      <td>0.152076</td>\n",
              "      <td>0.513171</td>\n",
              "      <td>0.117428</td>\n",
              "      <td>162.000000</td>\n",
              "      <td>0</td>\n",
              "    </tr>\n",
              "    <tr>\n",
              "      <th>...</th>\n",
              "      <td>...</td>\n",
              "      <td>...</td>\n",
              "      <td>...</td>\n",
              "      <td>...</td>\n",
              "      <td>...</td>\n",
              "      <td>...</td>\n",
              "      <td>...</td>\n",
              "      <td>...</td>\n",
              "      <td>...</td>\n",
              "      <td>...</td>\n",
              "      <td>...</td>\n",
              "    </tr>\n",
              "    <tr>\n",
              "      <th>54020</th>\n",
              "      <td>16855.246324</td>\n",
              "      <td>675.000000</td>\n",
              "      <td>12.157324</td>\n",
              "      <td>1</td>\n",
              "      <td>2.0</td>\n",
              "      <td>0.501213</td>\n",
              "      <td>0.180635</td>\n",
              "      <td>0.513171</td>\n",
              "      <td>0.082500</td>\n",
              "      <td>0.000000</td>\n",
              "      <td>1</td>\n",
              "    </tr>\n",
              "    <tr>\n",
              "      <th>54021</th>\n",
              "      <td>11250.000000</td>\n",
              "      <td>675.000000</td>\n",
              "      <td>14.000000</td>\n",
              "      <td>0</td>\n",
              "      <td>3.0</td>\n",
              "      <td>0.409620</td>\n",
              "      <td>0.606002</td>\n",
              "      <td>0.513171</td>\n",
              "      <td>0.117428</td>\n",
              "      <td>466.000000</td>\n",
              "      <td>1</td>\n",
              "    </tr>\n",
              "    <tr>\n",
              "      <th>54022</th>\n",
              "      <td>13500.000000</td>\n",
              "      <td>900.000000</td>\n",
              "      <td>64.000000</td>\n",
              "      <td>0</td>\n",
              "      <td>2.0</td>\n",
              "      <td>0.162632</td>\n",
              "      <td>0.525412</td>\n",
              "      <td>0.513171</td>\n",
              "      <td>0.117428</td>\n",
              "      <td>962.106056</td>\n",
              "      <td>1</td>\n",
              "    </tr>\n",
              "    <tr>\n",
              "      <th>54023</th>\n",
              "      <td>11250.000000</td>\n",
              "      <td>2371.500000</td>\n",
              "      <td>12.157324</td>\n",
              "      <td>0</td>\n",
              "      <td>3.0</td>\n",
              "      <td>0.501213</td>\n",
              "      <td>0.664027</td>\n",
              "      <td>0.513171</td>\n",
              "      <td>0.117428</td>\n",
              "      <td>482.000000</td>\n",
              "      <td>1</td>\n",
              "    </tr>\n",
              "    <tr>\n",
              "      <th>54024</th>\n",
              "      <td>21060.000000</td>\n",
              "      <td>2459.250000</td>\n",
              "      <td>12.157324</td>\n",
              "      <td>0</td>\n",
              "      <td>2.0</td>\n",
              "      <td>0.339656</td>\n",
              "      <td>0.656468</td>\n",
              "      <td>0.513171</td>\n",
              "      <td>0.117428</td>\n",
              "      <td>0.000000</td>\n",
              "      <td>1</td>\n",
              "    </tr>\n",
              "  </tbody>\n",
              "</table>\n",
              "<p>54025 rows × 11 columns</p>\n",
              "</div>\n",
              "    <div class=\"colab-df-buttons\">\n",
              "\n",
              "  <div class=\"colab-df-container\">\n",
              "    <button class=\"colab-df-convert\" onclick=\"convertToInteractive('df-c91f7e80-c568-444f-9245-b28844cfac46')\"\n",
              "            title=\"Convert this dataframe to an interactive table.\"\n",
              "            style=\"display:none;\">\n",
              "\n",
              "  <svg xmlns=\"http://www.w3.org/2000/svg\" height=\"24px\" viewBox=\"0 -960 960 960\">\n",
              "    <path d=\"M120-120v-720h720v720H120Zm60-500h600v-160H180v160Zm220 220h160v-160H400v160Zm0 220h160v-160H400v160ZM180-400h160v-160H180v160Zm440 0h160v-160H620v160ZM180-180h160v-160H180v160Zm440 0h160v-160H620v160Z\"/>\n",
              "  </svg>\n",
              "    </button>\n",
              "\n",
              "  <style>\n",
              "    .colab-df-container {\n",
              "      display:flex;\n",
              "      gap: 12px;\n",
              "    }\n",
              "\n",
              "    .colab-df-convert {\n",
              "      background-color: #E8F0FE;\n",
              "      border: none;\n",
              "      border-radius: 50%;\n",
              "      cursor: pointer;\n",
              "      display: none;\n",
              "      fill: #1967D2;\n",
              "      height: 32px;\n",
              "      padding: 0 0 0 0;\n",
              "      width: 32px;\n",
              "    }\n",
              "\n",
              "    .colab-df-convert:hover {\n",
              "      background-color: #E2EBFA;\n",
              "      box-shadow: 0px 1px 2px rgba(60, 64, 67, 0.3), 0px 1px 3px 1px rgba(60, 64, 67, 0.15);\n",
              "      fill: #174EA6;\n",
              "    }\n",
              "\n",
              "    .colab-df-buttons div {\n",
              "      margin-bottom: 4px;\n",
              "    }\n",
              "\n",
              "    [theme=dark] .colab-df-convert {\n",
              "      background-color: #3B4455;\n",
              "      fill: #D2E3FC;\n",
              "    }\n",
              "\n",
              "    [theme=dark] .colab-df-convert:hover {\n",
              "      background-color: #434B5C;\n",
              "      box-shadow: 0px 1px 3px 1px rgba(0, 0, 0, 0.15);\n",
              "      filter: drop-shadow(0px 1px 2px rgba(0, 0, 0, 0.3));\n",
              "      fill: #FFFFFF;\n",
              "    }\n",
              "  </style>\n",
              "\n",
              "    <script>\n",
              "      const buttonEl =\n",
              "        document.querySelector('#df-c91f7e80-c568-444f-9245-b28844cfac46 button.colab-df-convert');\n",
              "      buttonEl.style.display =\n",
              "        google.colab.kernel.accessAllowed ? 'block' : 'none';\n",
              "\n",
              "      async function convertToInteractive(key) {\n",
              "        const element = document.querySelector('#df-c91f7e80-c568-444f-9245-b28844cfac46');\n",
              "        const dataTable =\n",
              "          await google.colab.kernel.invokeFunction('convertToInteractive',\n",
              "                                                    [key], {});\n",
              "        if (!dataTable) return;\n",
              "\n",
              "        const docLinkHtml = 'Like what you see? Visit the ' +\n",
              "          '<a target=\"_blank\" href=https://colab.research.google.com/notebooks/data_table.ipynb>data table notebook</a>'\n",
              "          + ' to learn more about interactive tables.';\n",
              "        element.innerHTML = '';\n",
              "        dataTable['output_type'] = 'display_data';\n",
              "        await google.colab.output.renderOutput(dataTable, element);\n",
              "        const docLink = document.createElement('div');\n",
              "        docLink.innerHTML = docLinkHtml;\n",
              "        element.appendChild(docLink);\n",
              "      }\n",
              "    </script>\n",
              "  </div>\n",
              "\n",
              "\n",
              "    <div id=\"df-a8de6436-102c-4dcc-ac83-4f08f525ca44\">\n",
              "      <button class=\"colab-df-quickchart\" onclick=\"quickchart('df-a8de6436-102c-4dcc-ac83-4f08f525ca44')\"\n",
              "                title=\"Suggest charts\"\n",
              "                style=\"display:none;\">\n",
              "\n",
              "<svg xmlns=\"http://www.w3.org/2000/svg\" height=\"24px\"viewBox=\"0 0 24 24\"\n",
              "     width=\"24px\">\n",
              "    <g>\n",
              "        <path d=\"M19 3H5c-1.1 0-2 .9-2 2v14c0 1.1.9 2 2 2h14c1.1 0 2-.9 2-2V5c0-1.1-.9-2-2-2zM9 17H7v-7h2v7zm4 0h-2V7h2v10zm4 0h-2v-4h2v4z\"/>\n",
              "    </g>\n",
              "</svg>\n",
              "      </button>\n",
              "\n",
              "<style>\n",
              "  .colab-df-quickchart {\n",
              "      --bg-color: #E8F0FE;\n",
              "      --fill-color: #1967D2;\n",
              "      --hover-bg-color: #E2EBFA;\n",
              "      --hover-fill-color: #174EA6;\n",
              "      --disabled-fill-color: #AAA;\n",
              "      --disabled-bg-color: #DDD;\n",
              "  }\n",
              "\n",
              "  [theme=dark] .colab-df-quickchart {\n",
              "      --bg-color: #3B4455;\n",
              "      --fill-color: #D2E3FC;\n",
              "      --hover-bg-color: #434B5C;\n",
              "      --hover-fill-color: #FFFFFF;\n",
              "      --disabled-bg-color: #3B4455;\n",
              "      --disabled-fill-color: #666;\n",
              "  }\n",
              "\n",
              "  .colab-df-quickchart {\n",
              "    background-color: var(--bg-color);\n",
              "    border: none;\n",
              "    border-radius: 50%;\n",
              "    cursor: pointer;\n",
              "    display: none;\n",
              "    fill: var(--fill-color);\n",
              "    height: 32px;\n",
              "    padding: 0;\n",
              "    width: 32px;\n",
              "  }\n",
              "\n",
              "  .colab-df-quickchart:hover {\n",
              "    background-color: var(--hover-bg-color);\n",
              "    box-shadow: 0 1px 2px rgba(60, 64, 67, 0.3), 0 1px 3px 1px rgba(60, 64, 67, 0.15);\n",
              "    fill: var(--button-hover-fill-color);\n",
              "  }\n",
              "\n",
              "  .colab-df-quickchart-complete:disabled,\n",
              "  .colab-df-quickchart-complete:disabled:hover {\n",
              "    background-color: var(--disabled-bg-color);\n",
              "    fill: var(--disabled-fill-color);\n",
              "    box-shadow: none;\n",
              "  }\n",
              "\n",
              "  .colab-df-spinner {\n",
              "    border: 2px solid var(--fill-color);\n",
              "    border-color: transparent;\n",
              "    border-bottom-color: var(--fill-color);\n",
              "    animation:\n",
              "      spin 1s steps(1) infinite;\n",
              "  }\n",
              "\n",
              "  @keyframes spin {\n",
              "    0% {\n",
              "      border-color: transparent;\n",
              "      border-bottom-color: var(--fill-color);\n",
              "      border-left-color: var(--fill-color);\n",
              "    }\n",
              "    20% {\n",
              "      border-color: transparent;\n",
              "      border-left-color: var(--fill-color);\n",
              "      border-top-color: var(--fill-color);\n",
              "    }\n",
              "    30% {\n",
              "      border-color: transparent;\n",
              "      border-left-color: var(--fill-color);\n",
              "      border-top-color: var(--fill-color);\n",
              "      border-right-color: var(--fill-color);\n",
              "    }\n",
              "    40% {\n",
              "      border-color: transparent;\n",
              "      border-right-color: var(--fill-color);\n",
              "      border-top-color: var(--fill-color);\n",
              "    }\n",
              "    60% {\n",
              "      border-color: transparent;\n",
              "      border-right-color: var(--fill-color);\n",
              "    }\n",
              "    80% {\n",
              "      border-color: transparent;\n",
              "      border-right-color: var(--fill-color);\n",
              "      border-bottom-color: var(--fill-color);\n",
              "    }\n",
              "    90% {\n",
              "      border-color: transparent;\n",
              "      border-bottom-color: var(--fill-color);\n",
              "    }\n",
              "  }\n",
              "</style>\n",
              "\n",
              "      <script>\n",
              "        async function quickchart(key) {\n",
              "          const quickchartButtonEl =\n",
              "            document.querySelector('#' + key + ' button');\n",
              "          quickchartButtonEl.disabled = true;  // To prevent multiple clicks.\n",
              "          quickchartButtonEl.classList.add('colab-df-spinner');\n",
              "          try {\n",
              "            const charts = await google.colab.kernel.invokeFunction(\n",
              "                'suggestCharts', [key], {});\n",
              "          } catch (error) {\n",
              "            console.error('Error during call to suggestCharts:', error);\n",
              "          }\n",
              "          quickchartButtonEl.classList.remove('colab-df-spinner');\n",
              "          quickchartButtonEl.classList.add('colab-df-quickchart-complete');\n",
              "        }\n",
              "        (() => {\n",
              "          let quickchartButtonEl =\n",
              "            document.querySelector('#df-a8de6436-102c-4dcc-ac83-4f08f525ca44 button');\n",
              "          quickchartButtonEl.style.display =\n",
              "            google.colab.kernel.accessAllowed ? 'block' : 'none';\n",
              "        })();\n",
              "      </script>\n",
              "    </div>\n",
              "\n",
              "  <div id=\"id_83f31ce7-209d-4aa1-8c74-a15917562262\">\n",
              "    <style>\n",
              "      .colab-df-generate {\n",
              "        background-color: #E8F0FE;\n",
              "        border: none;\n",
              "        border-radius: 50%;\n",
              "        cursor: pointer;\n",
              "        display: none;\n",
              "        fill: #1967D2;\n",
              "        height: 32px;\n",
              "        padding: 0 0 0 0;\n",
              "        width: 32px;\n",
              "      }\n",
              "\n",
              "      .colab-df-generate:hover {\n",
              "        background-color: #E2EBFA;\n",
              "        box-shadow: 0px 1px 2px rgba(60, 64, 67, 0.3), 0px 1px 3px 1px rgba(60, 64, 67, 0.15);\n",
              "        fill: #174EA6;\n",
              "      }\n",
              "\n",
              "      [theme=dark] .colab-df-generate {\n",
              "        background-color: #3B4455;\n",
              "        fill: #D2E3FC;\n",
              "      }\n",
              "\n",
              "      [theme=dark] .colab-df-generate:hover {\n",
              "        background-color: #434B5C;\n",
              "        box-shadow: 0px 1px 3px 1px rgba(0, 0, 0, 0.15);\n",
              "        filter: drop-shadow(0px 1px 2px rgba(0, 0, 0, 0.3));\n",
              "        fill: #FFFFFF;\n",
              "      }\n",
              "    </style>\n",
              "    <button class=\"colab-df-generate\" onclick=\"generateWithVariable('dados')\"\n",
              "            title=\"Generate code using this dataframe.\"\n",
              "            style=\"display:none;\">\n",
              "\n",
              "  <svg xmlns=\"http://www.w3.org/2000/svg\" height=\"24px\"viewBox=\"0 0 24 24\"\n",
              "       width=\"24px\">\n",
              "    <path d=\"M7,19H8.4L18.45,9,17,7.55,7,17.6ZM5,21V16.75L18.45,3.32a2,2,0,0,1,2.83,0l1.4,1.43a1.91,1.91,0,0,1,.58,1.4,1.91,1.91,0,0,1-.58,1.4L9.25,21ZM18.45,9,17,7.55Zm-12,3A5.31,5.31,0,0,0,4.9,8.1,5.31,5.31,0,0,0,1,6.5,5.31,5.31,0,0,0,4.9,4.9,5.31,5.31,0,0,0,6.5,1,5.31,5.31,0,0,0,8.1,4.9,5.31,5.31,0,0,0,12,6.5,5.46,5.46,0,0,0,6.5,12Z\"/>\n",
              "  </svg>\n",
              "    </button>\n",
              "    <script>\n",
              "      (() => {\n",
              "      const buttonEl =\n",
              "        document.querySelector('#id_83f31ce7-209d-4aa1-8c74-a15917562262 button.colab-df-generate');\n",
              "      buttonEl.style.display =\n",
              "        google.colab.kernel.accessAllowed ? 'block' : 'none';\n",
              "\n",
              "      buttonEl.onclick = () => {\n",
              "        google.colab.notebook.generateWithVariable('dados');\n",
              "      }\n",
              "      })();\n",
              "    </script>\n",
              "  </div>\n",
              "\n",
              "    </div>\n",
              "  </div>\n"
            ],
            "application/vnd.google.colaboratory.intrinsic+json": {
              "type": "dataframe",
              "variable_name": "dados",
              "summary": "{\n  \"name\": \"dados\",\n  \"rows\": 54025,\n  \"fields\": [\n    {\n      \"column\": \"receita_cliente\",\n      \"properties\": {\n        \"dtype\": \"number\",\n        \"std\": 9658.762569130264,\n        \"min\": 2700.0,\n        \"max\": 450000.0,\n        \"num_unique_values\": 663,\n        \"samples\": [\n          11018.7,\n          38520.0,\n          17796.6\n        ],\n        \"semantic_type\": \"\",\n        \"description\": \"\"\n      }\n    },\n    {\n      \"column\": \"anuidade_emprestimo\",\n      \"properties\": {\n        \"dtype\": \"number\",\n        \"std\": 1305.3647344874787,\n        \"min\": 218.7,\n        \"max\": 22500.0,\n        \"num_unique_values\": 8004,\n        \"samples\": [\n          5339.7,\n          5067.0,\n          5757.3\n        ],\n        \"semantic_type\": \"\",\n        \"description\": \"\"\n      }\n    },\n    {\n      \"column\": \"anos_casa_propria\",\n      \"properties\": {\n        \"dtype\": \"number\",\n        \"std\": 7.452120104984191,\n        \"min\": 0.0,\n        \"max\": 69.0,\n        \"num_unique_values\": 53,\n        \"samples\": [\n          11.0,\n          31.0,\n          32.0\n        ],\n        \"semantic_type\": \"\",\n        \"description\": \"\"\n      }\n    },\n    {\n      \"column\": \"telefone_trab\",\n      \"properties\": {\n        \"dtype\": \"number\",\n        \"std\": 0,\n        \"min\": 0,\n        \"max\": 1,\n        \"num_unique_values\": 2,\n        \"samples\": [\n          0,\n          1\n        ],\n        \"semantic_type\": \"\",\n        \"description\": \"\"\n      }\n    },\n    {\n      \"column\": \"avaliacao_cidade\",\n      \"properties\": {\n        \"dtype\": \"number\",\n        \"std\": 0.49880682251877845,\n        \"min\": 1.0,\n        \"max\": 3.0,\n        \"num_unique_values\": 4,\n        \"samples\": [\n          3.0,\n          2.030038427084816\n        ],\n        \"semantic_type\": \"\",\n        \"description\": \"\"\n      }\n    },\n    {\n      \"column\": \"score_1\",\n      \"properties\": {\n        \"dtype\": \"number\",\n        \"std\": 0.14238945649917853,\n        \"min\": 0.014568132,\n        \"max\": 0.942680454,\n        \"num_unique_values\": 23062,\n        \"samples\": [\n          0.475611877,\n          0.435226091\n        ],\n        \"semantic_type\": \"\",\n        \"description\": \"\"\n      }\n    },\n    {\n      \"column\": \"score_2\",\n      \"properties\": {\n        \"dtype\": \"number\",\n        \"std\": 0.8759454878096079,\n        \"min\": 5e-06,\n        \"max\": 100.0,\n        \"num_unique_values\": 38047,\n        \"samples\": [\n          0.416306086,\n          0.675062411\n        ],\n        \"semantic_type\": \"\",\n        \"description\": \"\"\n      }\n    },\n    {\n      \"column\": \"score_3\",\n      \"properties\": {\n        \"dtype\": \"number\",\n        \"std\": 0.06272486372343226,\n        \"min\": 0.000527265,\n        \"max\": 0.869210801,\n        \"num_unique_values\": 612,\n        \"samples\": [\n          0.420610964,\n          0.168416171\n        ],\n        \"semantic_type\": \"\",\n        \"description\": \"\"\n      }\n    },\n    {\n      \"column\": \"score_social\",\n      \"properties\": {\n        \"dtype\": \"number\",\n        \"std\": 0.0761796573204536,\n        \"min\": 0.0,\n        \"max\": 1.0,\n        \"num_unique_values\": 1459,\n        \"samples\": [\n          0.1674,\n          0.6381\n        ],\n        \"semantic_type\": \"\",\n        \"description\": \"\"\n      }\n    },\n    {\n      \"column\": \"troca_telefone\",\n      \"properties\": {\n        \"dtype\": \"number\",\n        \"std\": 818.1417090553241,\n        \"min\": 0.0,\n        \"max\": 4185.0,\n        \"num_unique_values\": 3408,\n        \"samples\": [\n          966.0,\n          3099.0\n        ],\n        \"semantic_type\": \"\",\n        \"description\": \"\"\n      }\n    },\n    {\n      \"column\": \"inadimplente\",\n      \"properties\": {\n        \"dtype\": \"number\",\n        \"std\": 0,\n        \"min\": 0,\n        \"max\": 1,\n        \"num_unique_values\": 2,\n        \"samples\": [\n          1,\n          0\n        ],\n        \"semantic_type\": \"\",\n        \"description\": \"\"\n      }\n    }\n  ]\n}"
            }
          },
          "metadata": {},
          "execution_count": 4
        }
      ]
    },
    {
      "cell_type": "code",
      "source": [
        "x = dados.drop('inadimplente', axis = 1)\n",
        "y = dados['inadimplente']"
      ],
      "metadata": {
        "id": "z-uyYSjuWA8Q"
      },
      "execution_count": 5,
      "outputs": []
    },
    {
      "cell_type": "code",
      "source": [
        "modelo = DecisionTreeClassifier()\n",
        "modelo.fit(x, y)\n",
        "modelo.score(x, y)"
      ],
      "metadata": {
        "colab": {
          "base_uri": "https://localhost:8080/"
        },
        "id": "OqskWZzTWMJ2",
        "outputId": "661d0705-fa04-4514-d8be-3ba0605960d6"
      },
      "execution_count": 6,
      "outputs": [
        {
          "output_type": "execute_result",
          "data": {
            "text/plain": [
              "1.0"
            ]
          },
          "metadata": {},
          "execution_count": 6
        }
      ]
    },
    {
      "cell_type": "code",
      "source": [
        "print(f\"Acurácia: {modelo.score(x, y)}\")"
      ],
      "metadata": {
        "colab": {
          "base_uri": "https://localhost:8080/"
        },
        "id": "Hv9nz9vcWzkW",
        "outputId": "83a14b93-64ea-4dbb-b42e-0ef38ff9ecd8"
      },
      "execution_count": 7,
      "outputs": [
        {
          "output_type": "stream",
          "name": "stdout",
          "text": [
            "Acurácia: 1.0\n"
          ]
        }
      ]
    },
    {
      "cell_type": "markdown",
      "source": [
        "Treino e Validação"
      ],
      "metadata": {
        "id": "BDjwv2QNYRBX"
      }
    },
    {
      "cell_type": "code",
      "source": [
        "x, x_teste, y, y_teste = train_test_split(x, y, test_size = 0.15, stratify = y, random_state = 5)\n",
        "x_treino, x_val, y_treino, y_val = train_test_split(x, y, stratify = y, random_state = 5)"
      ],
      "metadata": {
        "id": "sNW2QquLYUB_"
      },
      "execution_count": 8,
      "outputs": []
    },
    {
      "cell_type": "code",
      "source": [
        "modelo = DecisionTreeClassifier(max_depth = 10)\n",
        "modelo.fit(x_treino, y_treino)\n",
        "print(f'Acurácia de treino: {modelo.score(x_treino, y_treino)}')\n",
        "print(f'Acurácia de vallidação: {modelo.score(x_val, y_val)}')"
      ],
      "metadata": {
        "colab": {
          "base_uri": "https://localhost:8080/"
        },
        "id": "izINGn4TZC5J",
        "outputId": "3b33eedc-7762-4966-80cb-e1130a0781db"
      },
      "execution_count": 9,
      "outputs": [
        {
          "output_type": "stream",
          "name": "stdout",
          "text": [
            "Acurácia de treino: 0.9205574912891986\n",
            "Acurácia de vallidação: 0.9059315390645414\n"
          ]
        }
      ]
    },
    {
      "cell_type": "markdown",
      "source": [
        "Matriz de Confusão"
      ],
      "metadata": {
        "id": "MaaZNeLNUT2M"
      }
    },
    {
      "cell_type": "code",
      "source": [
        "y_previsto = modelo.predict(x_val)\n",
        "matriz_confusao = confusion_matrix(y_val, y_previsto)\n",
        "print(matriz_confusao)"
      ],
      "metadata": {
        "colab": {
          "base_uri": "https://localhost:8080/"
        },
        "id": "BqO0AvDhUXuW",
        "outputId": "b8c363bf-9963-436f-c015-027fe4ec60de"
      },
      "execution_count": 10,
      "outputs": [
        {
          "output_type": "stream",
          "name": "stdout",
          "text": [
            "[[10361   118]\n",
            " [  962    40]]\n"
          ]
        }
      ]
    },
    {
      "cell_type": "code",
      "source": [
        "visualizacao = ConfusionMatrixDisplay(confusion_matrix = matriz_confusao)\n",
        "visualizacao.plot();"
      ],
      "metadata": {
        "colab": {
          "base_uri": "https://localhost:8080/",
          "height": 449
        },
        "id": "jT2cDN08Uv80",
        "outputId": "411f8c09-77e3-4bd4-a401-049a2aa5f6ae"
      },
      "execution_count": 11,
      "outputs": [
        {
          "output_type": "display_data",
          "data": {
            "text/plain": [
              "<Figure size 640x480 with 2 Axes>"
            ],
            "image/png": "[encoded data removed]"
          },
          "metadata": {}
        }
      ]
    },
    {
      "cell_type": "code",
      "source": [
        "visualizacao = ConfusionMatrixDisplay(confusion_matrix = matriz_confusao, display_labels = ['Adimplente', 'Inadimplente'])\n",
        "visualizacao.plot();"
      ],
      "metadata": {
        "colab": {
          "base_uri": "https://localhost:8080/",
          "height": 449
        },
        "id": "iQBXZwkrVP7e",
        "outputId": "0d5c78e6-7e5d-4d81-b806-e50f1a7153f2"
      },
      "execution_count": 12,
      "outputs": [
        {
          "output_type": "display_data",
          "data": {
            "text/plain": [
              "<Figure size 640x480 with 2 Axes>"
            ],
            "image/png": "[encoded data removed]"
          },
          "metadata": {}
        }
      ]
    },
    {
      "cell_type": "code",
      "source": [
        "print(f'Acurácia: {accuracy_score(y_val, y_previsto)}')\n",
        "print(f'Precisão: {precision_score(y_val, y_previsto)}')\n",
        "print(f'Recall: {recall_score(y_val, y_previsto)}')\n",
        "print(f'F1-Score: {f1_score(y_val, y_previsto)}')"
      ],
      "metadata": {
        "colab": {
          "base_uri": "https://localhost:8080/"
        },
        "id": "BxUFlpWOYD-j",
        "outputId": "a3ed3c43-bded-42ae-dbc5-6b039698ce15"
      },
      "execution_count": 13,
      "outputs": [
        {
          "output_type": "stream",
          "name": "stdout",
          "text": [
            "Acurácia: 0.9059315390645414\n",
            "Precisão: 0.25316455696202533\n",
            "Recall: 0.03992015968063872\n",
            "F1-Score: 0.06896551724137931\n"
          ]
        }
      ]
    },
    {
      "cell_type": "markdown",
      "source": [
        "Curva ROC"
      ],
      "metadata": {
        "id": "QW22nX9pdzsA"
      }
    },
    {
      "cell_type": "code",
      "source": [
        "RocCurveDisplay.from_predictions(y_val, y_previsto, name = 'Árvore de Decisão');"
      ],
      "metadata": {
        "colab": {
          "base_uri": "https://localhost:8080/",
          "height": 451
        },
        "id": "yoRZr6h2ZKQV",
        "outputId": "8a6660c8-30dd-49a5-840f-9f0e85b1aac1"
      },
      "execution_count": 14,
      "outputs": [
        {
          "output_type": "display_data",
          "data": {
            "text/plain": [
              "<Figure size 640x480 with 1 Axes>"
            ],
            "image/png": "[encoded data removed]"
          },
          "metadata": {}
        }
      ]
    },
    {
      "cell_type": "code",
      "source": [
        "print(f'AUC: {roc_auc_score(y_val, y_previsto)}')"
      ],
      "metadata": {
        "colab": {
          "base_uri": "https://localhost:8080/"
        },
        "id": "ckzU5bxuebT9",
        "outputId": "d369e17e-caef-42f4-bbfa-18410c9546cc"
      },
      "execution_count": 15,
      "outputs": [
        {
          "output_type": "stream",
          "name": "stdout",
          "text": [
            "AUC: 0.5143297716048006\n"
          ]
        }
      ]
    },
    {
      "cell_type": "markdown",
      "source": [
        "Curva de Precisão x Recall"
      ],
      "metadata": {
        "id": "1-Sf60rT3WJS"
      }
    },
    {
      "cell_type": "code",
      "source": [
        "PrecisionRecallDisplay.from_predictions(y_val, y_previsto, name = 'Árvore de decisão');"
      ],
      "metadata": {
        "colab": {
          "base_uri": "https://localhost:8080/",
          "height": 451
        },
        "id": "PMBou7WT3bye",
        "outputId": "736b354a-040c-4015-cb40-1e309f4c156f"
      },
      "execution_count": 16,
      "outputs": [
        {
          "output_type": "display_data",
          "data": {
            "text/plain": [
              "<Figure size 640x480 with 1 Axes>"
            ],
            "image/png": "[encoded data removed]"
          },
          "metadata": {}
        }
      ]
    },
    {
      "cell_type": "code",
      "source": [
        "print(f'AP: {average_precision_score(y_val, y_previsto)}')"
      ],
      "metadata": {
        "colab": {
          "base_uri": "https://localhost:8080/"
        },
        "id": "ln3RGysg5E_N",
        "outputId": "1522ce83-807e-4837-dc65-5ce666283972"
      },
      "execution_count": 17,
      "outputs": [
        {
          "output_type": "stream",
          "name": "stdout",
          "text": [
            "AP: 0.09389698011339402\n"
          ]
        }
      ]
    },
    {
      "cell_type": "markdown",
      "source": [
        "Relatório de Métricas"
      ],
      "metadata": {
        "id": "4JfaJ-I85yry"
      }
    },
    {
      "cell_type": "code",
      "source": [
        "print(classification_report(y_val, y_previsto))"
      ],
      "metadata": {
        "id": "Isy76beO5159",
        "outputId": "f2a1fb9c-682d-44ad-9761-e7a92e19ebe5",
        "colab": {
          "base_uri": "https://localhost:8080/"
        }
      },
      "execution_count": 18,
      "outputs": [
        {
          "output_type": "stream",
          "name": "stdout",
          "text": [
            "              precision    recall  f1-score   support\n",
            "\n",
            "           0       0.92      0.99      0.95     10479\n",
            "           1       0.25      0.04      0.07      1002\n",
            "\n",
            "    accuracy                           0.91     11481\n",
            "   macro avg       0.58      0.51      0.51     11481\n",
            "weighted avg       0.86      0.91      0.87     11481\n",
            "\n"
          ]
        }
      ]
    },
    {
      "cell_type": "markdown",
      "source": [
        "KFold"
      ],
      "metadata": {
        "id": "XXkIMa6XP6Np"
      }
    },
    {
      "cell_type": "code",
      "source": [
        "modelo = DecisionTreeClassifier(max_depth = 10)\n",
        "kf = KFold(n_splits = 5, shuffle = True, random_state = 5)\n",
        "cv_resultados = cross_validate(modelo, x, y, cv = kf)\n",
        "cv_resultados"
      ],
      "metadata": {
        "colab": {
          "base_uri": "https://localhost:8080/"
        },
        "id": "_wTS6Hf0QhQH",
        "outputId": "90e4b0b4-654b-4857-c60d-54e708402481"
      },
      "execution_count": 19,
      "outputs": [
        {
          "output_type": "execute_result",
          "data": {
            "text/plain": [
              "{'fit_time': array([0.25198984, 0.25396371, 0.23815775, 0.24430776, 0.23773813]),\n",
              " 'score_time': array([0.00456834, 0.00346851, 0.00344372, 0.00356412, 0.00351095]),\n",
              " 'test_score': array([0.9127926 , 0.90733885, 0.9070122 , 0.91332753, 0.90004355])}"
            ]
          },
          "metadata": {},
          "execution_count": 19
        }
      ]
    },
    {
      "cell_type": "code",
      "source": [
        "cv_resultados['test_score']"
      ],
      "metadata": {
        "colab": {
          "base_uri": "https://localhost:8080/"
        },
        "id": "8h2MgpVbRImc",
        "outputId": "92696dc1-d328-4417-8539-b90d7ff02b81"
      },
      "execution_count": 20,
      "outputs": [
        {
          "output_type": "execute_result",
          "data": {
            "text/plain": [
              "array([0.9127926 , 0.90733885, 0.9070122 , 0.91332753, 0.90004355])"
            ]
          },
          "metadata": {},
          "execution_count": 20
        }
      ]
    },
    {
      "cell_type": "code",
      "source": [
        "media = cv_resultados['test_score'].mean()\n",
        "desvio_padrao = cv_resultados['test_score'].std()\n",
        "print(f'Intervalo de confiança: [{media - 2*desvio_padrao}, {min(media + 2*desvio_padrao, 1)}]')"
      ],
      "metadata": {
        "colab": {
          "base_uri": "https://localhost:8080/"
        },
        "id": "A_MVAcZARVXL",
        "outputId": "e8f75f44-e4e8-4ca3-f3ab-f7398956ada5"
      },
      "execution_count": 21,
      "outputs": [
        {
          "output_type": "stream",
          "name": "stdout",
          "text": [
            "Intervalo de confiança: [0.8984689861497763, 0.9177369026744124]\n"
          ]
        }
      ]
    },
    {
      "cell_type": "markdown",
      "source": [
        "Validação Cruzada com Recall"
      ],
      "metadata": {
        "id": "lvSDIhGyTYsd"
      }
    },
    {
      "cell_type": "code",
      "source": [
        "def intervalo_conf(resultados):\n",
        "  media = resultados['test_score'].mean()\n",
        "  desvio_padrao = resultados['test_score'].std()\n",
        "  print(f'Intervalo de confiança: [{media - 2*desvio_padrao}, {min(media + 2*desvio_padrao, 1)}]')"
      ],
      "metadata": {
        "id": "POrToYwITxeK"
      },
      "execution_count": 22,
      "outputs": []
    },
    {
      "cell_type": "code",
      "source": [
        "modelo = DecisionTreeClassifier(max_depth = 10)\n",
        "kf = KFold(n_splits = 5, shuffle = True, random_state = 5)\n",
        "cv_resultados = cross_validate(modelo, x, y, cv = kf, scoring = \"recall\")\n",
        "cv_resultados"
      ],
      "metadata": {
        "colab": {
          "base_uri": "https://localhost:8080/"
        },
        "id": "aNjv3KTpT_g8",
        "outputId": "16b96aa0-04d7-42e3-876c-aeeb6da43ce3"
      },
      "execution_count": 23,
      "outputs": [
        {
          "output_type": "execute_result",
          "data": {
            "text/plain": [
              "{'fit_time': array([0.26274872, 0.24393773, 0.2430687 , 0.30362821, 0.35136342]),\n",
              " 'score_time': array([0.00750136, 0.005867  , 0.00671101, 0.00871706, 0.00880289]),\n",
              " 'test_score': array([0.03038309, 0.01856436, 0.01845018, 0.01697128, 0.02427746])}"
            ]
          },
          "metadata": {},
          "execution_count": 23
        }
      ]
    },
    {
      "cell_type": "code",
      "source": [
        "intervalo_conf(cv_resultados)"
      ],
      "metadata": {
        "colab": {
          "base_uri": "https://localhost:8080/"
        },
        "id": "ICVsdm91UPXZ",
        "outputId": "abbf8f3f-df0f-493e-dd58-23f514141dbb"
      },
      "execution_count": 24,
      "outputs": [
        {
          "output_type": "stream",
          "name": "stdout",
          "text": [
            "Intervalo de confiança: [0.01173769996964484, 0.03172084727336677]\n"
          ]
        }
      ]
    },
    {
      "cell_type": "markdown",
      "source": [
        "Estratificando os dados"
      ],
      "metadata": {
        "id": "klSd0mosUjHA"
      }
    },
    {
      "cell_type": "code",
      "source": [
        "dados['inadimplente'].value_counts(normalize = True)"
      ],
      "metadata": {
        "colab": {
          "base_uri": "https://localhost:8080/",
          "height": 178
        },
        "id": "K_aBbh7DUlDv",
        "outputId": "9d0e81fd-df9c-4c87-af7a-41d78b794b72"
      },
      "execution_count": 25,
      "outputs": [
        {
          "output_type": "execute_result",
          "data": {
            "text/plain": [
              "inadimplente\n",
              "0    0.912707\n",
              "1    0.087293\n",
              "Name: proportion, dtype: float64"
            ],
            "text/html": [
              "<div>\n",
              "<style scoped>\n",
              "    .dataframe tbody tr th:only-of-type {\n",
              "        vertical-align: middle;\n",
              "    }\n",
              "\n",
              "    .dataframe tbody tr th {\n",
              "        vertical-align: top;\n",
              "    }\n",
              "\n",
              "    .dataframe thead th {\n",
              "        text-align: right;\n",
              "    }\n",
              "</style>\n",
              "<table border=\"1\" class=\"dataframe\">\n",
              "  <thead>\n",
              "    <tr style=\"text-align: right;\">\n",
              "      <th></th>\n",
              "      <th>proportion</th>\n",
              "    </tr>\n",
              "    <tr>\n",
              "      <th>inadimplente</th>\n",
              "      <th></th>\n",
              "    </tr>\n",
              "  </thead>\n",
              "  <tbody>\n",
              "    <tr>\n",
              "      <th>0</th>\n",
              "      <td>0.912707</td>\n",
              "    </tr>\n",
              "    <tr>\n",
              "      <th>1</th>\n",
              "      <td>0.087293</td>\n",
              "    </tr>\n",
              "  </tbody>\n",
              "</table>\n",
              "</div><br><label><b>dtype:</b> float64</label>"
            ]
          },
          "metadata": {},
          "execution_count": 25
        }
      ]
    },
    {
      "cell_type": "code",
      "source": [
        "modelo = DecisionTreeClassifier(max_depth = 10)\n",
        "skf = StratifiedKFold(n_splits = 5, shuffle = True, random_state = 5)\n",
        "cv_resultados = cross_validate(modelo, x, y, cv = skf, scoring = 'recall')"
      ],
      "metadata": {
        "id": "4l-JCxyAUuBA"
      },
      "execution_count": 26,
      "outputs": []
    },
    {
      "cell_type": "code",
      "source": [
        "intervalo_conf(cv_resultados)"
      ],
      "metadata": {
        "colab": {
          "base_uri": "https://localhost:8080/"
        },
        "id": "QiAxwDHgVZPW",
        "outputId": "f4014cb6-e13c-496c-ca04-292737f37b1f"
      },
      "execution_count": 27,
      "outputs": [
        {
          "output_type": "stream",
          "name": "stdout",
          "text": [
            "Intervalo de confiança: [0.021301045080387965, 0.03557237685789989]\n"
          ]
        }
      ]
    },
    {
      "cell_type": "markdown",
      "source": [
        "Balanceamento de Dados"
      ],
      "metadata": {
        "id": "NxAWApfrMmsL"
      }
    },
    {
      "cell_type": "markdown",
      "source": [
        "Oversampling"
      ],
      "metadata": {
        "id": "X_T3_jTyMotB"
      }
    },
    {
      "cell_type": "code",
      "source": [
        "oversample = SMOTE()\n",
        "x_balanceado, y_balanceado = oversample.fit_resample(x, y)"
      ],
      "metadata": {
        "id": "ml8S43c_MqpJ"
      },
      "execution_count": 29,
      "outputs": []
    },
    {
      "cell_type": "code",
      "source": [
        "y_balanceado.value_counts(normalize = True)"
      ],
      "metadata": {
        "colab": {
          "base_uri": "https://localhost:8080/",
          "height": 178
        },
        "id": "13tBLtC5M5EJ",
        "outputId": "05ac9ae1-0056-4d03-8d9e-a1a4189fa219"
      },
      "execution_count": 30,
      "outputs": [
        {
          "output_type": "execute_result",
          "data": {
            "text/plain": [
              "inadimplente\n",
              "0    0.5\n",
              "1    0.5\n",
              "Name: proportion, dtype: float64"
            ],
            "text/html": [
              "<div>\n",
              "<style scoped>\n",
              "    .dataframe tbody tr th:only-of-type {\n",
              "        vertical-align: middle;\n",
              "    }\n",
              "\n",
              "    .dataframe tbody tr th {\n",
              "        vertical-align: top;\n",
              "    }\n",
              "\n",
              "    .dataframe thead th {\n",
              "        text-align: right;\n",
              "    }\n",
              "</style>\n",
              "<table border=\"1\" class=\"dataframe\">\n",
              "  <thead>\n",
              "    <tr style=\"text-align: right;\">\n",
              "      <th></th>\n",
              "      <th>proportion</th>\n",
              "    </tr>\n",
              "    <tr>\n",
              "      <th>inadimplente</th>\n",
              "      <th></th>\n",
              "    </tr>\n",
              "  </thead>\n",
              "  <tbody>\n",
              "    <tr>\n",
              "      <th>0</th>\n",
              "      <td>0.5</td>\n",
              "    </tr>\n",
              "    <tr>\n",
              "      <th>1</th>\n",
              "      <td>0.5</td>\n",
              "    </tr>\n",
              "  </tbody>\n",
              "</table>\n",
              "</div><br><label><b>dtype:</b> float64</label>"
            ]
          },
          "metadata": {},
          "execution_count": 30
        }
      ]
    },
    {
      "cell_type": "code",
      "source": [
        "modelo = DecisionTreeClassifier(max_depth = 10)\n",
        "skf = StratifiedKFold(n_splits = 5, shuffle = True, random_state = 5)\n",
        "cv_resultados = cross_validate(modelo, x_balanceado, y_balanceado, cv = skf, scoring = 'recall')"
      ],
      "metadata": {
        "id": "Z5EhozuSNBMA"
      },
      "execution_count": 31,
      "outputs": []
    },
    {
      "cell_type": "code",
      "source": [
        "intervalo_conf(cv_resultados)"
      ],
      "metadata": {
        "colab": {
          "base_uri": "https://localhost:8080/"
        },
        "id": "t8-0do4fNe2N",
        "outputId": "2c005b33-2eef-4084-b130-ef84d10e0e92"
      },
      "execution_count": 33,
      "outputs": [
        {
          "output_type": "stream",
          "name": "stdout",
          "text": [
            "Intervalo de confiança: [0.7189699561713855, 0.7521602438422598]\n"
          ]
        }
      ]
    },
    {
      "cell_type": "markdown",
      "source": [
        "Pipeline para Validação"
      ],
      "metadata": {
        "id": "3eytFlWFPXQO"
      }
    },
    {
      "cell_type": "code",
      "source": [
        "modelo = DecisionTreeClassifier(max_depth = 10)\n",
        "pipeline = imbpipeline([('oversample', SMOTE()), ('arvore', modelo)])"
      ],
      "metadata": {
        "id": "AXRGr5yQPbjs"
      },
      "execution_count": 37,
      "outputs": []
    },
    {
      "cell_type": "code",
      "source": [
        "skf = StratifiedKFold(n_splits = 5, shuffle = True, random_state = 5)\n",
        "cv_resultados = cross_validate(pipeline, x, y, cv = skf, scoring = 'recall')"
      ],
      "metadata": {
        "id": "4DC0olLjPyeV"
      },
      "execution_count": 38,
      "outputs": []
    },
    {
      "cell_type": "code",
      "source": [
        "intervalo_conf(cv_resultados)"
      ],
      "metadata": {
        "colab": {
          "base_uri": "https://localhost:8080/"
        },
        "id": "LgNSWjoGP3ot",
        "outputId": "5e912314-a3fc-4be6-9571-f976b80a4599"
      },
      "execution_count": 39,
      "outputs": [
        {
          "output_type": "stream",
          "name": "stdout",
          "text": [
            "Intervalo de confiança: [0.19704772711871263, 0.30831433588856316]\n"
          ]
        }
      ]
    },
    {
      "cell_type": "markdown",
      "source": [
        "Undersampling"
      ],
      "metadata": {
        "id": "23kajlBoQ0O0"
      }
    },
    {
      "cell_type": "code",
      "source": [
        "modelo = DecisionTreeClassifier(max_depth = 10)\n",
        "pipeline = imbpipeline([('undersample', NearMiss(version = 3)), ('arvore', modelo)])"
      ],
      "metadata": {
        "id": "JomhEXXFQ0CF"
      },
      "execution_count": 43,
      "outputs": []
    },
    {
      "cell_type": "code",
      "source": [
        "skf = StratifiedKFold(n_splits = 5, shuffle = True, random_state = 5)\n",
        "cv_resultados = cross_validate(pipeline, x, y, cv = skf, scoring = 'recall')"
      ],
      "metadata": {
        "id": "U-flv7KdRF26"
      },
      "execution_count": 44,
      "outputs": []
    },
    {
      "cell_type": "code",
      "source": [
        "intervalo_conf(cv_resultados)"
      ],
      "metadata": {
        "colab": {
          "base_uri": "https://localhost:8080/"
        },
        "id": "RukpEgWuRKJo",
        "outputId": "dccfe41c-7fc2-4077-abb4-151f6da431cc"
      },
      "execution_count": 45,
      "outputs": [
        {
          "output_type": "stream",
          "name": "stdout",
          "text": [
            "Intervalo de confiança: [0.6230563892510225, 0.7014463364565563]\n"
          ]
        }
      ]
    },
    {
      "cell_type": "markdown",
      "source": [
        "Testando o Modelo"
      ],
      "metadata": {
        "id": "uoihmw3VSIe_"
      }
    },
    {
      "cell_type": "code",
      "source": [
        "undersample = NearMiss(version = 3)\n",
        "x_balanceado, y_balanceado = undersample.fit_resample(x, y)\n",
        "\n",
        "modelo = DecisionTreeClassifier(max_depth = 10)\n",
        "modelo.fit(x_balanceado, y_balanceado)\n",
        "y_previsto = modelo.predict(x_teste)\n",
        "\n",
        "print(classification_report(y_teste, y_previsto))\n",
        "ConfusionMatrixDisplay.from_predictions(y_teste, y_previsto)"
      ],
      "metadata": {
        "colab": {
          "base_uri": "https://localhost:8080/",
          "height": 623
        },
        "id": "aJwWSQjPSKED",
        "outputId": "6141368a-59bb-4470-df6b-889ba9ba7333"
      },
      "execution_count": 47,
      "outputs": [
        {
          "output_type": "stream",
          "name": "stdout",
          "text": [
            "              precision    recall  f1-score   support\n",
            "\n",
            "           0       0.94      0.48      0.64      7397\n",
            "           1       0.11      0.71      0.20       707\n",
            "\n",
            "    accuracy                           0.50      8104\n",
            "   macro avg       0.53      0.59      0.42      8104\n",
            "weighted avg       0.87      0.50      0.60      8104\n",
            "\n"
          ]
        },
        {
          "output_type": "execute_result",
          "data": {
            "text/plain": [
              "<sklearn.metrics._plot.confusion_matrix.ConfusionMatrixDisplay at 0x78d67a73b2d0>"
            ]
          },
          "metadata": {},
          "execution_count": 47
        },
        {
          "output_type": "display_data",
          "data": {
            "text/plain": [
              "<Figure size 640x480 with 2 Axes>"
            ],
            "image/png": "[encoded data removed]"
          },
          "metadata": {}
        }
      ]
    }
  ]
}